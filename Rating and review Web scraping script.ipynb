{
 "cells": [
  {
   "cell_type": "code",
   "execution_count": 2,
   "metadata": {},
   "outputs": [],
   "source": [
    "import pandas as pd\n",
    "from selenium import webdriver\n",
    "import time\n",
    "from selenium.webdriver.common.keys import Keys\n",
    "from selenium.common.exceptions import NoSuchElementException"
   ]
  },
  {
   "cell_type": "markdown",
   "metadata": {},
   "source": [
    "Scrape data from flipkart"
   ]
  },
  {
   "cell_type": "code",
   "execution_count": 19,
   "metadata": {},
   "outputs": [],
   "source": [
    "flip=webdriver.Chrome(\"chromedriver.exe\")\n",
    "flip.get(\"https://www.flipkart.com/\")\n",
    "lists=[\"laptop\",\"Phones\",\"Headphones\",\"smart watches\",\"Professional Cameras\",\"Printers\",\"Monitors\",\"Home theater\",\"Router\"]\n",
    "summery=[]\n",
    "rating=[]\n",
    "review=[]\n",
    "catogery=[]\n",
    "for I in lists:\n",
    "    select=flip.find_element_by_class_name(\"_3704LK\")\n",
    "    select.send_keys(Keys.CONTROL+\"a\",Keys.DELETE)\n",
    "    select.send_keys(I,Keys.ENTER)\n",
    "    time.sleep(3)\n",
    "    if flip.find_elements_by_xpath(\"//a[@class='_1fQZEK']\"):\n",
    "        link=flip.find_elements_by_xpath(\"//a[@class='_1fQZEK']\")\n",
    "    else:\n",
    "        link=flip.find_elements_by_xpath(\"//a[@class='s1Q9rs']\")           #to get product links\n",
    "    url=[]\n",
    "    for l in link:\n",
    "        url.append(l.get_attribute(\"href\"))\n",
    "    for i in url[:25]:\n",
    "        flip.get(i)\n",
    "        try:\n",
    "            flip.find_element_by_xpath(\"//div[@class='_3UAT2v _16PBlm']\").click()                     #to see all reviews\n",
    "            time.sleep(3)\n",
    "            flip.find_element_by_xpath(\"//option[contains(text(),'Negative First')]\").click()            #to get from Negative review\n",
    "            time.sleep(3)\n",
    "            for i in range(20):\n",
    "                time.sleep(2)\n",
    "                full=flip.find_elements_by_xpath(\"//div[@class='col _2wzgFH K0kLPL']\")                  #element containing reviews\n",
    "                for one in full:\n",
    "                    rating.append(one.find_element_by_xpath(\".//*[contains(@class,'_3LWZlK _')]\").text)              #rating\n",
    "                    summery.append(one.find_element_by_xpath(\".//p[@class='_2-N8zT']\").get_attribute(\"innerHTML\"))   #summery\n",
    "                    review.append(one.find_element_by_xpath(\".//div[@class='t-ZTKy']\").text)                         #review\n",
    "                    catogery.append(I)\n",
    "                try:\n",
    "                    flip.find_element_by_xpath(\"//a[@class='_1LKTO3']//span[contains(text(),'Next')]\").click()       #next page\n",
    "                except:\n",
    "                    break\n",
    "        except:\n",
    "            continue"
   ]
  },
  {
   "cell_type": "code",
   "execution_count": 9,
   "metadata": {},
   "outputs": [
    {
     "name": "stdout",
     "output_type": "stream",
     "text": [
      "11756\n",
      "11756\n",
      "11756\n",
      "11756\n",
      "{'laptop': 1844, 'Phones': 3924, 'Headphones': 4249, 'smart watches': 360, 'Professional Cameras': 44, 'Printers': 307, 'Monitors': 272, 'Home theater': 357, 'Router': 399}\n"
     ]
    }
   ],
   "source": [
    "print(len(rating))\n",
    "print(len(summery))\n",
    "print(len(review))\n",
    "print(len(catogery))\n",
    "print({i:catogery.count(i)for i in catogery})"
   ]
  },
  {
   "cell_type": "code",
   "execution_count": 10,
   "metadata": {},
   "outputs": [],
   "source": [
    "data={\"Catogery\":catogery,\"Summery\":summery,\"Review\":review,\"Rating\":rating}\n",
    "df=pd.DataFrame(data)"
   ]
  },
  {
   "cell_type": "code",
   "execution_count": 11,
   "metadata": {},
   "outputs": [],
   "source": [
    "df.to_csv(\"flipkart.csv\")"
   ]
  },
  {
   "cell_type": "markdown",
   "metadata": {},
   "source": [
    "Scrape data from amazon"
   ]
  },
  {
   "cell_type": "code",
   "execution_count": 5,
   "metadata": {},
   "outputs": [],
   "source": [
    "amazon=webdriver.Chrome(\"chromedriver.exe\")\n",
    "amazon.get(\"https://www.amazon.in/\")\n",
    "lists=[\"laptop\",\"Phones\",\"Headphones\",\"smart watches\",\"Professional Cameras\",\"Printers\",\"Monitors\",\"Home theater\",\"Router\"]\n",
    "reviews=[]\n",
    "ratings=[]\n",
    "summerys=[]\n",
    "categorys=[]\n",
    "for I in lists:\n",
    "    select=amazon.find_element_by_id(\"twotabsearchtextbox\")\n",
    "    select.send_keys(Keys.CONTROL+\"a\",Keys.DELETE)\n",
    "    select.send_keys(I,Keys.ENTER)\n",
    "    time.sleep(2)\n",
    "    link=amazon.find_elements_by_xpath(\"//a[@class='a-link-normal a-text-normal']\")     #to get product links\n",
    "    url=[]\n",
    "    for i in link:\n",
    "        url.append(i.get_attribute(\"href\"))\n",
    "    for i in url[:25]:\n",
    "        amazon.get(i)\n",
    "        try:\n",
    "            amazon.find_element_by_xpath(\"//*[contains(text(),'See all reviews')]\").click()     #to see all reviews\n",
    "            time.sleep(2)\n",
    "            star=amazon.find_elements_by_xpath(\"//a[contains(text(),'star')]\")                  #filter by stars\n",
    "            st=[]\n",
    "            for s in star:\n",
    "                st.append(s.get_attribute(\"href\"))                                              #to get link by filter fo stars\n",
    "            for i in st:\n",
    "                amazon.get(i)\n",
    "                time.sleep(2)\n",
    "                full=amazon.find_elements_by_xpath(\"//div[@class='a-section celwidget']\")    #to select full body tag\n",
    "                for one in full:\n",
    "                    categorys.append(I)                                                 #category\n",
    "                    reviews.append(one.find_element_by_xpath(\".//div[@class='a-row a-spacing-small review-data']\").text)   #review\n",
    "                    summerys.append(one.find_element_by_xpath(\".//*[@data-hook='review-title']/span\").text)                #summery\n",
    "                    ratings.append(one.find_element_by_xpath(\".//i[contains(@data-hook,'review-star-rating')]/span\").get_attribute(\"innerHTML\"))   #rating\n",
    "        except:\n",
    "            continue"
   ]
  },
  {
   "cell_type": "code",
   "execution_count": 14,
   "metadata": {},
   "outputs": [
    {
     "name": "stdout",
     "output_type": "stream",
     "text": [
      "8384\n",
      "8384\n",
      "8384\n",
      "8384\n",
      "{'laptop': 660, 'Phones': 964, 'Headphones': 1250, 'smart watches': 1167, 'Professional Cameras': 774, 'Printers': 1000, 'Monitors': 821, 'Home theater': 630, 'Router': 1118}\n"
     ]
    }
   ],
   "source": [
    "print(len(ratings))\n",
    "print(len(summerys))\n",
    "print(len(reviews))\n",
    "print(len(categorys))\n",
    "print({i:categorys.count(i)for i in categorys})"
   ]
  },
  {
   "cell_type": "code",
   "execution_count": 15,
   "metadata": {},
   "outputs": [],
   "source": [
    "datas={\"Catogery\":categorys,\"Summery\":summerys,\"Review\":reviews,\"Rating\":ratings}\n",
    "df1=pd.DataFrame(datas)"
   ]
  },
  {
   "cell_type": "code",
   "execution_count": 16,
   "metadata": {},
   "outputs": [],
   "source": [
    "df1.to_csv(\"amazon.csv\")"
   ]
  },
  {
   "cell_type": "code",
   "execution_count": null,
   "metadata": {},
   "outputs": [],
   "source": []
  }
 ],
 "metadata": {
  "kernelspec": {
   "display_name": "Python 3",
   "language": "python",
   "name": "python3"
  },
  "language_info": {
   "codemirror_mode": {
    "name": "ipython",
    "version": 3
   },
   "file_extension": ".py",
   "mimetype": "text/x-python",
   "name": "python",
   "nbconvert_exporter": "python",
   "pygments_lexer": "ipython3",
   "version": "3.7.4"
  }
 },
 "nbformat": 4,
 "nbformat_minor": 2
}
